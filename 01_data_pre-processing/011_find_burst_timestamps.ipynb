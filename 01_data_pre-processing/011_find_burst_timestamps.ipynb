{
 "cells": [
  {
   "cell_type": "markdown",
   "id": "d9966134",
   "metadata": {},
   "source": [
    "# 00 settings"
   ]
  },
  {
   "cell_type": "code",
   "execution_count": 1,
   "id": "fc79991b",
   "metadata": {},
   "outputs": [],
   "source": [
    "import numpy as np"
   ]
  },
  {
   "cell_type": "markdown",
   "id": "564bd082",
   "metadata": {},
   "source": [
    "# 01 find burst periods"
   ]
  },
  {
   "cell_type": "code",
   "execution_count": 2,
   "id": "b6bc56d3",
   "metadata": {},
   "outputs": [],
   "source": [
    "def func_find_burst(test_signal):\n",
    "    BurstOrNot = np.logical_or(test_signal > 1.5*np.sqrt(np.var(test_signal)),\n",
    "                               test_signal < -1.5*np.sqrt(np.var(test_signal)))\n",
    "    \n",
    "    smooth_BurstOrNot = np.zeros(len(BurstOrNot), dtype='bool')\n",
    "    for i in range(len(BurstOrNot)):\n",
    "        if BurstOrNot[i]==1:\n",
    "            smooth_BurstOrNot[i]=1\n",
    "        elif np.sum(BurstOrNot[i-300:i+300])>0:\n",
    "            smooth_BurstOrNot[i]=1\n",
    "        else:\n",
    "            smooth_BurstOrNot[i]=0\n",
    "            \n",
    "    return smooth_BurstOrNot\n",
    "\n",
    "\n",
    "def func_find_burst_time(bur):\n",
    "    bur_start_pts = []\n",
    "    bur_end_pts = []\n",
    "\n",
    "    for i in range(len(bur)-1):\n",
    "        if bur[i]==0 and bur[i+1]==1:\n",
    "            bur_start = i\n",
    "            bur_start_pts.append(bur_start)\n",
    "\n",
    "            for j in np.arange(i, len(bur)-1):\n",
    "                if bur[j]==1 and bur[j+1]==0:\n",
    "                    bur_end = j\n",
    "                    bur_end_pts.append(bur_end)\n",
    "\n",
    "                    break\n",
    "    \n",
    "    return np.array(bur_start_pts), np.array(bur_end_pts)"
   ]
  },
  {
   "cell_type": "code",
   "execution_count": null,
   "id": "5bc98272",
   "metadata": {},
   "outputs": [],
   "source": [
    "# example\n",
    "bur = func_find_burst(test_signal) # test signal is the LFP from one electrode\n",
    "bur_start, bur_end = func_find_burst_time(bur)"
   ]
  }
 ],
 "metadata": {
  "kernelspec": {
   "display_name": "Python 3 (ipykernel)",
   "language": "python",
   "name": "python3"
  },
  "language_info": {
   "codemirror_mode": {
    "name": "ipython",
    "version": 3
   },
   "file_extension": ".py",
   "mimetype": "text/x-python",
   "name": "python",
   "nbconvert_exporter": "python",
   "pygments_lexer": "ipython3",
   "version": "3.10.9"
  }
 },
 "nbformat": 4,
 "nbformat_minor": 5
}
