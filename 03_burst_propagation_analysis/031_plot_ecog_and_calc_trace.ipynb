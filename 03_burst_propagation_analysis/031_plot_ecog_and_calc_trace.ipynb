{
 "cells": [
  {
   "cell_type": "markdown",
   "id": "e4ab7647",
   "metadata": {},
   "source": [
    "# 00 settings"
   ]
  },
  {
   "cell_type": "code",
   "execution_count": 2,
   "id": "b8173fe8",
   "metadata": {},
   "outputs": [
    {
     "name": "stdout",
     "output_type": "stream",
     "text": [
      "res_path: xxx/data_analysis_res_m010/\n",
      "load_path: xxx/data_m010/\n"
     ]
    }
   ],
   "source": [
    "import scipy.io as scio\n",
    "import h5py\n",
    "import numpy as np\n",
    "import tifffile as tf\n",
    "from PIL import Image\n",
    "import hdf5storage\n",
    "\n",
    "import pandas as pd\n",
    "import numpy as np\n",
    "import math\n",
    "import random\n",
    "import copy\n",
    "from itertools import chain\n",
    "\n",
    "import matplotlib.pyplot as plt\n",
    "import matplotlib.cm as cm\n",
    "from matplotlib.gridspec import GridSpec\n",
    "import seaborn as sns\n",
    "import networkx as nx\n",
    "from networkx.algorithms import community\n",
    "import powerlaw\n",
    "\n",
    "from scipy.stats import pearsonr\n",
    "from scipy.cluster.hierarchy import dendrogram, linkage, fcluster\n",
    "from scipy.signal import find_peaks, correlate2d\n",
    "from scipy import stats\n",
    "from scipy import signal\n",
    "\n",
    "ele_start_second = 239 ## change it according to your ecog csv file!\n",
    "calc_start, calc_end = 2400, 3800  ## change it according to your anesthesia period\n",
    "\n",
    "res_path = 'xxx/data_analysis_res_m010/'\n",
    "load_path = 'xxx/data_m010/'\n",
    "\n",
    "print(\"res_path:\", res_path)\n",
    "print(\"load_path:\", load_path)"
   ]
  },
  {
   "cell_type": "markdown",
   "id": "824b8785",
   "metadata": {},
   "source": [
    "# 01 load data"
   ]
  },
  {
   "cell_type": "code",
   "execution_count": null,
   "id": "61e73ba0",
   "metadata": {},
   "outputs": [],
   "source": [
    "'''\n",
    "calc data\n",
    "'''\n",
    "denoised_data = np.load(res_path + \"records/neuron_denoised_records_whole_brain.npy\")\n",
    "print(\"denoised_data:\", denoised_data.shape)\n",
    "\n",
    "fig,ax = plt.subplots(figsize=(7,4), dpi=100,facecolor=\"w\")\n",
    "caxes = ax.matshow(denoised_data, vmin = -1.5, vmax = 1.5, cmap = \"viridis\", aspect = \"auto\")\n",
    "fig.colorbar(caxes)\n",
    "plt.title(\"whole brain denoised_data\")\n",
    "plt.show()"
   ]
  },
  {
   "cell_type": "code",
   "execution_count": null,
   "id": "0952e7d0",
   "metadata": {},
   "outputs": [],
   "source": [
    "'''\n",
    "ecog data:  Change it according to your csv file!\n",
    "'''\n",
    "name = \"burst_supp\"\n",
    "\n",
    "ele_rec_bs = pd.read_csv(load_path + \"ele_trigger/ele_signal_\" + name + \"_fp01-fp32.csv\")\n",
    "ele_rec_bs = ele_rec_bs.values\n",
    "ele_rec_bs = ele_rec_bs.T\n",
    "print(\"ele_rec_bs:\", type(ele_rec_bs), ele_rec_bs.shape)\n",
    "\n",
    "ele_fp26 = ele_rec_bs[26 * 2 - 1]\n",
    "print(\"ele_fp26:\", len(ele_fp26))\n",
    "plt.plot(ele_fp26)\n",
    "plt.show()\n"
   ]
  },
  {
   "cell_type": "markdown",
   "id": "95d551cf",
   "metadata": {},
   "source": [
    "# 02 plot traces"
   ]
  },
  {
   "cell_type": "code",
   "execution_count": null,
   "id": "588f5128",
   "metadata": {},
   "outputs": [],
   "source": [
    "'''\n",
    "burst neurons\n",
    "'''\n",
    "\n",
    "name = \"burst\"\n",
    "ele_start, ele_end = calc_start / 10 + 10.4, calc_end / 10 + 10.4\n",
    "ele_start_row, ele_end_row = int((ele_start - ele_start_second) * 1000), int((ele_end - ele_start_second) * 1000)\n",
    "print(\"ele_start_row, ele_end_row:\", ele_start_row, ele_end_row)\n",
    "\n",
    "# plot ecog data\n",
    "ele_rec = ele_fp26[ele_start_row : ele_end_row]\n",
    "fig,ax = plt.subplots(figsize=(11,4), dpi=100, facecolor=\"w\")\n",
    "plt.plot(ele_rec, color = \"#17202A\", linewidth = 0.4, alpha = 0.8)\n",
    "plt.title(\"ECoG signal\", fontsize = 18)\n",
    "plt.ylabel(\"(mV)\", fontsize = 14)\n",
    "plt.xlabel(\"Time\", fontsize = 14)\n",
    "plt.xticks(np.arange(0, ele_end_row - ele_start_row , 10000), np.arange(calc_start, calc_end , 100))\n",
    "plt.show()\n",
    "\n",
    "# load neuron ids\n",
    "select_data_ids = np.load(res_path + \"neurons/neurons_ids_\" + name + \"_all_start.npy\")  ## change the file name\n",
    "print(\"select_data_ids:\", len(select_data_ids))\n",
    "\n",
    "\n",
    "# plot calcium data 1\n",
    "fig,ax = plt.subplots(figsize=(11,4), dpi=100, facecolor=\"w\")\n",
    "for i in select_data_ids:\n",
    "    plt.plot(denoised_data[i, calc_start : calc_end], alpha = 0.8, color = \"#2471A3\", linewidth = 0.8)\n",
    "plt.title(\"burst neurons\", fontsize = 18)\n",
    "plt.xticks(np.arange(0, calc_end - calc_start, 100), np.arange(calc_start, calc_end, 100))\n",
    "plt.ylabel(\"\\u0394 F / F\", fontsize = 14)\n",
    "plt.xlabel(\"Time\", fontsize = 14)\n",
    "plt.savefig(res_path + \"neurons/calc_records_\" + name + \"_select_data_line.png\", bbox_inches='tight')\n",
    "plt.savefig(res_path + \"neurons/calc_records_\" + name + \"_select_data_line.pdf\", bbox_inches='tight')\n",
    "plt.show()\n",
    "\n",
    "\n",
    "# plot calcium data 2\n",
    "calc_rec = denoised_data[select_data_ids, calc_start : calc_end]\n",
    "fig,ax = plt.subplots(figsize=(15,4), dpi=100, facecolor=\"w\")\n",
    "caxes = ax.matshow(calc_rec, vmin = 0, vmax = 1, cmap = \"Greys\", aspect = \"auto\")\n",
    "fig.colorbar(caxes)\n",
    "plt.xticks(np.arange(0, calc_end - calc_start, 100), np.arange(calc_start, calc_end, 100))\n",
    "plt.ylabel(\"\\u0394 F / F\", fontsize = 14)\n",
    "plt.xlabel(\"Time\", fontsize = 14)\n",
    "plt.savefig(res_path + \"neurons/calc_records_\" + name + \"_select_data_matrix.png\", bbox_inches='tight')\n",
    "plt.savefig(res_path + \"neurons/calc_records_\" + name + \"_select_data_matrix.pdf\", bbox_inches='tight')\n",
    "plt.show()\n"
   ]
  },
  {
   "cell_type": "code",
   "execution_count": null,
   "id": "483507c1",
   "metadata": {},
   "outputs": [],
   "source": [
    "'''\n",
    "supp neurons\n",
    "'''\n",
    "\n",
    "name = \"supp\"\n",
    "ele_start, ele_end = calc_start / 10 + 10.4, calc_end / 10 + 10.4\n",
    "ele_start_row, ele_end_row = int((ele_start - ele_start_second) * 1000), int((ele_end - ele_start_second) * 1000)\n",
    "print(\"ele_start_row, ele_end_row:\", ele_start_row, ele_end_row)\n",
    "\n",
    "# plot ecog data\n",
    "ele_rec = ele_fp26[ele_start_row : ele_end_row]\n",
    "fig,ax = plt.subplots(figsize=(11,4), dpi=100, facecolor=\"w\")\n",
    "plt.plot(ele_rec, color = \"#17202A\", linewidth = 0.4, alpha = 0.8)\n",
    "plt.title(\"ECoG signal\", fontsize = 18)\n",
    "plt.ylabel(\"(mV)\", fontsize = 14)\n",
    "plt.xlabel(\"Time\", fontsize = 14)\n",
    "plt.xticks(np.arange(0, ele_end_row - ele_start_row , 10000), np.arange(calc_start, calc_end , 100))\n",
    "plt.show()\n",
    "\n",
    "# load neuron ids\n",
    "select_data_ids = np.load(res_path + \"neurons/neurons_ids_\" + name + \"_all_start.npy\")  ## change the file name\n",
    "print(\"select_data_ids:\", len(select_data_ids))\n",
    "\n",
    "# plot calcium data 1\n",
    "fig,ax = plt.subplots(figsize=(11,4), dpi=100, facecolor=\"w\")\n",
    "for i in select_data_ids:\n",
    "    plt.plot(denoised_data[i, calc_start : calc_end], alpha = 0.8, color = \"#633974\", linewidth = 0.8)\n",
    "plt.title(\"supp neurons\", fontsize = 18)\n",
    "plt.xticks(np.arange(0, calc_end - calc_start, 100), np.arange(calc_start, calc_end, 100))\n",
    "plt.ylabel(\"\\u0394 F / F\", fontsize = 14)\n",
    "plt.xlabel(\"Time\", fontsize = 14)\n",
    "plt.savefig(res_path + \"neurons/calc_records_\" + name + \"_select_data_line.png\", bbox_inches='tight')\n",
    "plt.savefig(res_path + \"neurons/calc_records_\" + name + \"_select_data_line.pdf\", bbox_inches='tight')\n",
    "plt.show()\n",
    "\n",
    "# plot calcium data 2\n",
    "calc_rec = denoised_data[select_data_ids, calc_start : calc_end]\n",
    "fig,ax = plt.subplots(figsize=(15,4), dpi=100, facecolor=\"w\")\n",
    "caxes = ax.matshow(calc_rec, vmin = 0, vmax = 1, cmap = \"Greys\", aspect = \"auto\")\n",
    "fig.colorbar(caxes)\n",
    "plt.xticks(np.arange(0, calc_end - calc_start, 100), np.arange(calc_start, calc_end, 100))\n",
    "plt.ylabel(\"\\u0394 F / F\", fontsize = 14)\n",
    "plt.xlabel(\"Time\", fontsize = 14)\n",
    "plt.savefig(res_path + \"neurons/calc_records_\" + name + \"_select_data_matrix.png\", bbox_inches='tight')\n",
    "plt.savefig(res_path + \"neurons/calc_records_\" + name + \"_select_data_matrix.pdf\", bbox_inches='tight')\n",
    "plt.show()\n"
   ]
  }
 ],
 "metadata": {
  "kernelspec": {
   "display_name": "Python 3 (ipykernel)",
   "language": "python",
   "name": "python3"
  },
  "language_info": {
   "codemirror_mode": {
    "name": "ipython",
    "version": 3
   },
   "file_extension": ".py",
   "mimetype": "text/x-python",
   "name": "python",
   "nbconvert_exporter": "python",
   "pygments_lexer": "ipython3",
   "version": "3.10.9"
  }
 },
 "nbformat": 4,
 "nbformat_minor": 5
}
